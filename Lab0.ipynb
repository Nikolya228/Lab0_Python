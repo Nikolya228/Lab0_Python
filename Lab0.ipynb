{
 "cells": [
  {
   "cell_type": "markdown",
   "id": "a5141d02a0471342",
   "metadata": {
    "collapsed": false
   },
   "source": [
    "# Грузія\n",
    "\n",
    "Грузія — це країна з багатою культурою та природою. Давайте розглянемо деякі ключові аспекти:\n",
    "\n",
    "## Основні факти\n",
    "\n",
    "- **Площина:** 69,700 квадратних кілометрів\n",
    "- **Населення:** Близько 3,7 мільйонів осіб\n",
    "- **Державний устрій:** Парламентська республіка\n",
    "\n",
    "## Видатні персоналії\n",
    "\n",
    "В історії Грузії є численні видатні постаті. Деякі з них:\n",
    "- <span style=\"color: blue; font-weight: bold\">Давид Агмашенебелі:</span> Грузинський поет та публіцист.\n",
    "- <span style=\"color: green; font-style: italic\">Гіоргі Вашадзе:</span> Відомий грузинський композитор.\n",
    "- <span style=\"color: red; text-decoration: underline\">Міхеіл Саакашвілі:</span> П'ятий президент незалежної Грузії.\n",
    "\n",
    "## Пам'ятки культури та природи\n",
    "\n",
    "Грузія славиться своєю культурною спадщиною та природною красою. Деякі пам'ятки:\n",
    "1. <span style=\"border: 1px solid purple; padding: 2px\">Светіцховели:</span> Давній храм, включений до списку світової спадщини ЮНЕСКО.\n",
    "2. <span style=\"border: 1px solid orange; padding: 2px\">Казбегі:</span> Гора в Грузії, висота якої становить 5 047 метрів.\n",
    "\n",
    "## Флаг Грузії\n",
    "\n",
    "<svg width=\"900\" height=\"600\" viewBox=\"0 0 900 600\">\n",
    "        <rect width=\"900\" height=\"600\" fill=\"#ffffff\" />\n",
    "        <rect x=\"400\" y=\"0\" height=\"600\" width=\"100\" fill=\"#f00\" />\n",
    "        <rect x=\"0\" y=\"250\" height=\"100\" width=\"900\" fill=\"#f00\" />\n",
    "        <rect x=\"175\" y=\"50\" height=\"150\" width=\"25\" fill=\"#f00\" />\n",
    "        <rect x=\"112.5\" y=\"110\" height=\"25\" width=\"150\" fill=\"#f00\" />\n",
    "        <rect x=\"700\" y=\"50\" height=\"150\" width=\"25\" fill=\"#f00\" />\n",
    "        <rect x=\"637.5\" y=\"110\" height=\"25\" width=\"150\" fill=\"#f00\" />\n",
    "        <rect x=\"175\" y=\"400\" height=\"150\" width=\"25\" fill=\"#f00\" />\n",
    "        <rect x=\"112.5\" y=\"460\" height=\"25\" width=\"150\" fill=\"#f00\" />\n",
    "        <rect x=\"700\" y=\"400\" height=\"150\" width=\"25\" fill=\"#f00\" />\n",
    "        <rect x=\"637.5\" y=\"460\" height=\"25\" width=\"150\" fill=\"#f00\" />\n",
    "    </svg>\n",
    "\n",
    "## Зображення Грузії\n",
    "![Грузія](https://lifestyle.24tv.ua/resources/photos/news/1200x675_DIR/202005/1339621.jpg)\n",
    "\n",
    "<img src=\"Gryzia.jpg\" alt=\"Флаг Грузії\" width=\"900\" height=\"600\">\n",
    "\n",
    "## Додаткова інформація\n",
    "\n",
    "Для отримання більше інформації про Грузію, відвідайте [офіційний веб-сайт Грузії](http://www.georgia.travel).\n",
    "\n",
    "\n",
    "\n"
   ]
  },
  {
   "cell_type": "code",
   "execution_count": 1,
   "id": "initial_id",
   "metadata": {
    "ExecuteTime": {
     "end_time": "2023-10-18T15:42:16.174093600Z",
     "start_time": "2023-10-18T15:42:16.146119400Z"
    },
    "collapsed": true
   },
   "outputs": [
    {
     "name": "stdout",
     "output_type": "stream",
     "text": [
      "8\n"
     ]
    }
   ],
   "source": [
    "print(ord(\"M\") % 10 + 1)"
   ]
  },
  {
   "cell_type": "code",
   "execution_count": 3,
   "id": "cc6f2b97",
   "metadata": {},
   "outputs": [
    {
     "name": "stdout",
     "output_type": "stream",
     "text": [
      "[5, 4, 3, 2, 1]\n",
      "[78, 34, 23, 7, 5, 3, 3]\n"
     ]
    }
   ],
   "source": [
    "def gnome_sort(arr):\n",
    "    index = 0\n",
    "    n = len(arr)\n",
    "    \n",
    "    while index < n:\n",
    "        if index == 0:\n",
    "            index += 1\n",
    "        if arr[index] <= arr[index - 1]:\n",
    "            index += 1\n",
    "        else:\n",
    "            arr[index], arr[index - 1] = arr[index - 1], arr[index]\n",
    "            index -= 1\n",
    "\n",
    "    return arr\n",
    "\n",
    "# Приклад використання\n",
    "unsorted_list = [3, 2, 5, 1, 4]\n",
    "sorted_list = gnome_sort(unsorted_list)\n",
    "print(sorted_list)\n",
    "unsorted_list = [5, 3, 78, 3, 23, 7, 34]\n",
    "sorted_list = gnome_sort(unsorted_list)\n",
    "print(sorted_list)\n"
   ]
  }
 ],
 "metadata": {
  "kernelspec": {
   "display_name": "Python 3",
   "language": "python",
   "name": "python3"
  },
  "language_info": {
   "codemirror_mode": {
    "name": "ipython",
    "version": 3
   },
   "file_extension": ".py",
   "mimetype": "text/x-python",
   "name": "python",
   "nbconvert_exporter": "python",
   "pygments_lexer": "ipython3",
   "version": "3.11.6"
  }
 },
 "nbformat": 4,
 "nbformat_minor": 5
}
